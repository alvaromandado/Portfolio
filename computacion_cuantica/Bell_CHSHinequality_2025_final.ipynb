{
 "cells": [
  {
   "cell_type": "markdown",
   "id": "0c17d7fe-b133-4a9e-a22d-2d6dc8c5008d",
   "metadata": {},
   "source": [
    "# Experimental measurement of a Bell inequality <br> (CHSH combination of correlators)\n",
    "Introduction: The purpose of this computational exercise is to measure the CHSH correlators that test whether nature is (or is not) compatible with local realism by respecting (violating, as quantum mechanics predicts) the CHSH inequality. We will first simulate the experiment using qiskit's aer simulator and then conduct the actual quantum experiment using the qubits of a quantum computer."
   ]
  },
  {
   "cell_type": "markdown",
   "id": "7b6bdafa-4014-4dc3-afbd-470940fae8c1",
   "metadata": {},
   "source": [
    "### PREAMBLE  "
   ]
  },
  {
   "cell_type": "code",
   "execution_count": 1,
   "id": "ec94994a-3a16-465d-8420-42ade29365e4",
   "metadata": {},
   "outputs": [],
   "source": [
    "!pip install qiskit qiskit_aer qiskit_ibm_runtime matplotlib pylatexenc --quiet"
   ]
  },
  {
   "cell_type": "code",
   "execution_count": 3,
   "id": "ceaefb45-f20c-4a32-bd54-9a5d2c79b296",
   "metadata": {},
   "outputs": [],
   "source": [
    "# Importing standard Qiskit libraries\n",
    "from qiskit import QuantumCircuit, transpile\n",
    "from qiskit_aer import Aer # Aer simulator\n",
    "from qiskit.visualization import *\n",
    "from qiskit_ibm_runtime import QiskitRuntimeService, Sampler, Estimator, Session, Options\n",
    "from qiskit.quantum_info import Statevector, Pauli, SparsePauliOp\n",
    "from qiskit.transpiler.preset_passmanagers import generate_preset_pass_manager\n",
    "\n",
    "import numpy as np\n",
    "from numpy import sqrt as sqrt\n",
    "np.set_printoptions(precision=7)"
   ]
  },
  {
   "cell_type": "code",
   "execution_count": 5,
   "id": "43d4a4f7-5468-43ce-ad70-92fbb75bfe73",
   "metadata": {},
   "outputs": [],
   "source": [
    "# Loading the aer simulator\n",
    "backend_S = Aer.get_backend(\"aer_simulator\")"
   ]
  },
  {
   "cell_type": "markdown",
   "id": "4693e899-70f2-44aa-9cb4-be0ca5f67cfc",
   "metadata": {},
   "source": [
    "### The CHSH inequality:\n",
    "If $\\{A_1, A_2\\}$ and $\\{B_1,B_2\\}$ are two pairs of observables (with dichotomic/binary outcome) of two spatially separated systems, the expected values of their products $\\langle A_i B_j \\rangle$ according to any local hidden variable model (that is, an attempt at trying to explain away quantum features with additional classical mechanics variables) satisfy the classical CHSH inequality\n",
    "\n",
    "$$\n",
    "|\\langle A_1 B_1\\rangle +\\langle A_1 B_2\\rangle + \\langle A_2 B_1\\rangle - \\langle A_2 B_2\\rangle|\\leq 2 .\n",
    "$$\n",
    "\n",
    "Quantum theory, on the contrary, predicts that this inequality is violated for a suitable choice of observables, obtaining the maximum violation, in the case of two qubits, when \n",
    "\n",
    "$$\n",
    "A_1=X,\\quad A_2=Y, \\quad B_1=\\frac{-(X+Y)}{\\sqrt{2}}, \\quad B_2=\\frac{-(X-Y)}{\\sqrt{2}} \n",
    "$$\n",
    "or rotationally equivalent configurations. Here $X$ and $Y$ denote the $\\sigma_x$ and $\\sigma_y$ Pauli matrices."
   ]
  },
  {
   "cell_type": "markdown",
   "id": "3f766456-2e67-4bb8-9eb6-cedbb77603a1",
   "metadata": {},
   "source": [
    "The command \"SparsePauliOp.from_list([('O1', c1), ('O2', c2),...])\" takes as input the coefficients (simply numbers) \"c1, c2, ...\" and one or more Pauli matrices written as a text string  \"O1, O2,...\" (e.g. O1=XYYXZ$\\equiv\\sigma_x\\otimes \\sigma_y \\otimes \\sigma_y\\otimes \\sigma_x \\otimes \\sigma_z$). On output it produces the operator c1 O1 + c2 O2 + ... \n",
    " \n",
    "#### <font color=teal> **Question 2**: Using this command, define the four product observables that appear in the CHSH inequality: $A_1B_1$, $A_2B_1$, $A_1B_2$, and $A_2B_2$: </font>"
   ]
  },
  {
   "cell_type": "code",
   "execution_count": 9,
   "id": "93fde99d-388e-4040-8413-db8b0c4d7cab",
   "metadata": {
    "tags": []
   },
   "outputs": [],
   "source": [
    "# Define pairs of observables for maximum violation of the CHSH innequality\n",
    "A1B1=SparsePauliOp.from_list([('XX', -1/sqrt(2)), ('XY', -1/sqrt(2))]) \n",
    "A1B2=SparsePauliOp.from_list([('XX', -1/sqrt(2)), ('XY', 1/sqrt(2))])\n",
    "A2B1=SparsePauliOp.from_list([('YX', -1/sqrt(2)), ('YY', -1/sqrt(2))])\n",
    "A2B2=SparsePauliOp.from_list([('YX', -1/sqrt(2)), ('YY', 1/sqrt(2))])\n",
    "Obs=[A1B1,A1B2,A2B1,A2B2] #The four correlators are packaged in one list of observables"
   ]
  },
  {
   "cell_type": "markdown",
   "id": "33d7db80-b1ee-46c6-9500-be4541284121",
   "metadata": {
    "tags": []
   },
   "source": [
    "### Initialization of the circuit\n",
    "#### <font color=teal> **Question 1**:  Define a circuit that prepares the \"singlet state\" of two qubits $|\\Psi^-\\rangle=\\tfrac{1}{\\sqrt2}(|01\\rangle-|10\\rangle)$."
   ]
  },
  {
   "cell_type": "code",
   "execution_count": 12,
   "id": "bf8ba572-463f-4de9-83eb-595a93084757",
   "metadata": {
    "tags": []
   },
   "outputs": [
    {
     "data": {
      "text/latex": [
       "$$\\frac{\\sqrt{2}}{2} |01\\rangle- \\frac{\\sqrt{2}}{2} |10\\rangle$$"
      ],
      "text/plain": [
       "<IPython.core.display.Latex object>"
      ]
     },
     "execution_count": 12,
     "metadata": {},
     "output_type": "execute_result"
    }
   ],
   "source": [
    "# Prepare the input circuit:\n",
    "chsh_circuit = QuantumCircuit(2)\n",
    "chsh_circuit.h(0)\n",
    "chsh_circuit.cx(0,1)\n",
    "chsh_circuit.z(0)\n",
    "chsh_circuit.x(0)\n",
    "chsh_circuit.draw(output='mpl')\n",
    "phi=Statevector(chsh_circuit)\n",
    "phi.draw(output='latex')"
   ]
  },
  {
   "cell_type": "markdown",
   "id": "19dfedce-7723-455a-b27a-c8b00a7e4d42",
   "metadata": {},
   "source": [
    "### Run the quantum circuit on the simulation machine"
   ]
  },
  {
   "cell_type": "markdown",
   "id": "fbf35f14-e0b8-4a7f-8949-597402f168af",
   "metadata": {},
   "source": [
    "The idea is to \"measure\" the observable <font color=\"blue\"> Obs </font> over the state just prepared and stored in <font color=\"blue\">chsh_circuit</font>."
   ]
  },
  {
   "cell_type": "code",
   "execution_count": 14,
   "id": "85a75e6c-f3f3-421f-88da-1290b5ee98d3",
   "metadata": {
    "tags": []
   },
   "outputs": [],
   "source": [
    "# Choose the \"backend\" (computational engine doing the work behind)  \n",
    "estimator_S = Estimator(mode=backend_S) #for the determination of mean values\n",
    "\n",
    "# Execute the circuit \n",
    "job_S = estimator_S.run([(chsh_circuit,Obs)])\n",
    "result_S = job_S.result()[0]"
   ]
  },
  {
   "cell_type": "code",
   "execution_count": 16,
   "id": "c0290d90-9dac-49d2-ac23-0070f0428811",
   "metadata": {
    "tags": []
   },
   "outputs": [
    {
     "name": "stdout",
     "output_type": "stream",
     "text": [
      "Simulated expectation values for the four correlators:\n",
      "  [ 0.707452   0.7067615  0.6991656 -0.7150479]\n"
     ]
    }
   ],
   "source": [
    "#Print simulated expectation values\n",
    "print(f\"Simulated expectation values for the four correlators:\\n  {result_S.data.evs}\")"
   ]
  },
  {
   "cell_type": "markdown",
   "id": "5a1a81fe-16d7-421e-8aa0-cd35ab7662e3",
   "metadata": {},
   "source": [
    "With those four number we can check whether the CHSH inequality is or is not violated;<br> however, we would like to know the uncertainty in the test, so we need to get some more data from the various shots (repetitions of the quantum measurement on the computer)."
   ]
  },
  {
   "cell_type": "code",
   "execution_count": 19,
   "id": "2a6118dc-55db-4586-b5f4-8e922ff3c3d8",
   "metadata": {
    "tags": []
   },
   "outputs": [
    {
     "name": "stdout",
     "output_type": "stream",
     "text": [
      "Simulated standard errors: [0.011, 0.011, 0.011, 0.011047847]\n"
     ]
    }
   ],
   "source": [
    "# Retrieve sample variance and number of shots from metadata\n",
    "StandardDeviations = result_S.data.stds\n",
    "std_S1=round(StandardDeviations[0],3)\n",
    "std_S2=round(StandardDeviations[1],3)\n",
    "std_S3=round(StandardDeviations[2],3)\n",
    "std_S4=round(StandardDeviations[3],9) #note the different rounding off here, for checking\n",
    "\n",
    "\n",
    "# Calculate and print simulated standard errors\n",
    "Standard_errors_S = [float(std_S1),float(std_S2),float(std_S3),float(std_S4)]\n",
    "print(f\"Simulated standard errors: {Standard_errors_S}\")"
   ]
  },
  {
   "cell_type": "markdown",
   "id": "79a77f12-ec27-4c7f-a0e7-fe9828e96a95",
   "metadata": {},
   "source": [
    "#### <font color=teal> **Question 3**: Calculate the simulated value obtained for the CHSH inequality jointly with its error </font>"
   ]
  },
  {
   "cell_type": "code",
   "execution_count": 23,
   "id": "ed081585-2d85-438f-9690-24153338c3e0",
   "metadata": {
    "tags": []
   },
   "outputs": [
    {
     "name": "stdout",
     "output_type": "stream",
     "text": [
      "The simulated result is 2.82842712474619 + 0.022023962480339658:\n",
      "does it exceed 2 with sufficient statistical certainty?\n"
     ]
    }
   ],
   "source": [
    "CHSH_mean=result_S.data.evs[0]+result_S.data.evs[1]+result_S.data.evs[2]-result_S.data.evs[3]\n",
    "CHSH_uncertainty=sqrt(Standard_errors_S[0]**2+Standard_errors_S[1]**2+Standard_errors_S[2]**2+Standard_errors_S[3]**2)\n",
    "print(f\"The simulated result is {CHSH_mean} + {CHSH_uncertainty}:\\ndoes it exceed 2 with sufficient statistical certainty?\")"
   ]
  },
  {
   "cell_type": "markdown",
   "id": "9228cf52-47f7-403f-b3e1-e44e72f8e127",
   "metadata": {
    "tags": []
   },
   "source": [
    "### Run the quantum circuit on a real quantum machine"
   ]
  },
  {
   "cell_type": "markdown",
   "id": "88355b6e-5778-492b-8651-63875e0209e7",
   "metadata": {},
   "source": [
    "IBM offers free computation time accesible throught the cloud, each account is able to generate \"user tokens\" that allow to send \"jobs\" to real quantum hardware. Please copy your token number here (to generate it see instructions in the pdf)"
   ]
  },
  {
   "cell_type": "code",
   "execution_count": 25,
   "id": "cdad3a1f-58a1-46c6-b674-6640c39b45aa",
   "metadata": {},
   "outputs": [],
   "source": [
    "My_user_token = \"b9968ad2d40bcf52dc390f83272649228d8fbb847bc6d72190e27e1f4bbeabf1c8f422151cc4ea587452529d7cbbb1ac3dfd527b2f917b18c18e073accd7bdb3\" # Use this at home (long waiting time"
   ]
  },
  {
   "cell_type": "markdown",
   "id": "480bc3a9-994b-4a7c-b6f7-08e520646b69",
   "metadata": {},
   "source": [
    "##### Defining the quantum backend"
   ]
  },
  {
   "cell_type": "code",
   "execution_count": 28,
   "id": "f5d6e562-88de-4dd3-8793-5d7e028f47ca",
   "metadata": {
    "tags": []
   },
   "outputs": [
    {
     "data": {
      "text/plain": [
       "{'period': {'start': '2025-04-01T00:00:00.000Z',\n",
       "  'end': '2025-04-30T23:59:59.999Z'},\n",
       " 'byInstance': [{'instance': 'ibm-q/open/main',\n",
       "   'quota': 600,\n",
       "   'usage': 3,\n",
       "   'pendingJobs': 0,\n",
       "   'maxPendingJobs': 3}]}"
      ]
     },
     "execution_count": 28,
     "metadata": {},
     "output_type": "execute_result"
    }
   ],
   "source": [
    "# Quantum machine\n",
    "Quantum_service = QiskitRuntimeService(channel=\"ibm_quantum\",token=My_user_token)\n",
    "Quantum_service.usage()"
   ]
  },
  {
   "cell_type": "markdown",
   "id": "9d9b23e0-e018-4af4-86e3-8a81254c4ce0",
   "metadata": {},
   "source": [
    "First we have to choose one of the available machines: we let the system do it with some requirements"
   ]
  },
  {
   "cell_type": "code",
   "execution_count": 31,
   "id": "6988b8c3-31fb-43bd-8031-caabc228393e",
   "metadata": {
    "tags": []
   },
   "outputs": [],
   "source": [
    "backend_Q = Quantum_service.least_busy(operational=True, simulator=False, min_num_qubits=20)"
   ]
  },
  {
   "cell_type": "code",
   "execution_count": 33,
   "id": "f9b113ca-b6ef-4c33-b8ee-c91064e9a121",
   "metadata": {
    "tags": []
   },
   "outputs": [
    {
     "data": {
      "text/html": [
       "<pre>&lt;qiskit_ibm_runtime.models.backend_status.BackendStatus object at 0x00000219889BF6B0&gt;</pre><b>name</b>: ibm_kyiv<br/><b>version</b>: , <b>pending jobs</b>: 5<br/><b>status</b>: active<br/>"
      ],
      "text/plain": [
       "<qiskit_ibm_runtime.models.backend_status.BackendStatus at 0x219889bf6b0>"
      ]
     },
     "execution_count": 33,
     "metadata": {},
     "output_type": "execute_result"
    }
   ],
   "source": [
    "backend_Q.status()"
   ]
  },
  {
   "cell_type": "markdown",
   "id": "ee665f53-20d6-4a4f-91e3-d83be8c3dfe3",
   "metadata": {},
   "source": [
    "##### Sending jobs to the machine <br>\n",
    "<font color=\"red\"> Executing the following cell will cause a charge on your free monthly time allotment, currently 10 min. courtesy of IBM</font>"
   ]
  },
  {
   "cell_type": "code",
   "execution_count": 36,
   "id": "cbd22a60-51ce-414f-8c7b-d113317d8d58",
   "metadata": {},
   "outputs": [],
   "source": [
    "# Maximum execution time in seconds\n",
    "my_options = {\"max_execution_time\": 20}\n",
    "# Number of shots\n",
    "pm = generate_preset_pass_manager(backend=backend_Q, optimization_level=1) #Define pass manager\n",
    "CHSH_circuits = pm.run(chsh_circuit) #copy the circuit 4 times and run against the pass manager\n",
    "CHSH_observables = [ob.apply_layout(CHSH_circuits.layout) for ob in Obs] #apply transpiled circuit layout to observables\n",
    "estimator_Q = Estimator(mode=backend_Q,options=my_options) #for the determination of mean values\n",
    "# Execute the circuit \n",
    "job_Q = estimator_Q.run([(CHSH_circuits, CHSH_observables)])"
   ]
  },
  {
   "cell_type": "markdown",
   "id": "d8299184-ea54-42f7-a090-047107cea958",
   "metadata": {},
   "source": [
    "##### Checking job state"
   ]
  },
  {
   "cell_type": "code",
   "execution_count": 43,
   "id": "b085343b-c8e0-4fa1-bed3-2ca447ccb640",
   "metadata": {},
   "outputs": [
    {
     "data": {
      "text/plain": [
       "'DONE'"
      ]
     },
     "execution_count": 43,
     "metadata": {},
     "output_type": "execute_result"
    }
   ],
   "source": [
    "# The following cell gives information about the job\n",
    "job_Q.status() # Status"
   ]
  },
  {
   "cell_type": "code",
   "execution_count": 45,
   "id": "10771d37-e995-49dc-90f1-d4b75d58cbab",
   "metadata": {},
   "outputs": [],
   "source": [
    "result_Q = job_Q.result()[0]"
   ]
  },
  {
   "cell_type": "code",
   "execution_count": 47,
   "id": "a49ec934-9e25-4995-9665-2adfad917f8c",
   "metadata": {},
   "outputs": [
    {
     "data": {
      "text/plain": [
       "'czzryzbkzhn0008dgpd0'"
      ]
     },
     "execution_count": 47,
     "metadata": {},
     "output_type": "execute_result"
    }
   ],
   "source": [
    "job_Q.job_id() # Identification code"
   ]
  },
  {
   "cell_type": "code",
   "execution_count": 49,
   "id": "6f9ceedb-b901-4064-a4e8-af153cc99772",
   "metadata": {
    "tags": []
   },
   "outputs": [
    {
     "name": "stdout",
     "output_type": "stream",
     "text": [
      "Expectation values: [ 0.7092474  0.7049662  0.7056797 -0.6985444]\n"
     ]
    }
   ],
   "source": [
    "#Once the program has run we can print the simulated expectation values\n",
    "print(f\"Expectation values: {result_Q.data.evs}\")"
   ]
  },
  {
   "cell_type": "code",
   "execution_count": 53,
   "id": "e6688035-540f-4e37-8a65-8ceef463b996",
   "metadata": {
    "tags": []
   },
   "outputs": [
    {
     "name": "stdout",
     "output_type": "stream",
     "text": [
      "Standard errors: [0.013, 0.013, 0.012, 0.012363197]\n"
     ]
    }
   ],
   "source": [
    "# Retrieve sample variance and number of shots from metadata\n",
    "StandardDeviations = result_Q.data.stds\n",
    "std_S1=round(StandardDeviations[0],3)\n",
    "std_S2=round(StandardDeviations[1],3)\n",
    "std_S3=round(StandardDeviations[2],3)\n",
    "std_S4=round(StandardDeviations[3],9) #note the different rounding off here, for checking\n",
    "\n",
    "# Calculate and print standard errors\n",
    "Standard_errors_Q = [float(std_S1),float(std_S2),float(std_S3),float(std_S4)]\n",
    "print(f\"Standard errors: {Standard_errors_Q}\")"
   ]
  },
  {
   "cell_type": "code",
   "execution_count": 55,
   "id": "b9c46a79-caf4-410b-87a4-c8c368d50b4b",
   "metadata": {},
   "outputs": [
    {
     "name": "stdout",
     "output_type": "stream",
     "text": [
      "The simulated result is 2.8184377252137867 + 0.025196202889737354:\n",
      "does it exceed 2 with sufficient statistical certainty?\n"
     ]
    }
   ],
   "source": [
    "CHSH_mean_Q=result_Q.data.evs[0]+result_Q.data.evs[1]+result_Q.data.evs[2]-result_Q.data.evs[3]\n",
    "CHSH_uncertainty_Q=sqrt(Standard_errors_Q[0]**2+Standard_errors_Q[1]**2+Standard_errors_Q[2]**2+Standard_errors_Q[3]**2)\n",
    "print(f\"The simulated result is {CHSH_mean_Q} + {CHSH_uncertainty_Q}:\\ndoes it exceed 2 with sufficient statistical certainty?\")"
   ]
  },
  {
   "cell_type": "markdown",
   "id": "0fd33159-eecb-4f79-ae0f-69c2592b1ae9",
   "metadata": {},
   "source": [
    "####  <font color=teal> **Question 4**: Compute, with a hand calculator or simple python commands, the experimental value obtained for the CHSH inequality jointly with its error from the quantum data obtained. </font> "
   ]
  },
  {
   "cell_type": "markdown",
   "id": "9667d0e2-27da-4d6b-b6e0-cd787f649e6a",
   "metadata": {
    "tags": []
   },
   "source": [
    "##### Retrieving job and results from  queued and past jobs"
   ]
  },
  {
   "cell_type": "markdown",
   "id": "3cd5dc9b-c96c-4a2a-824b-c0071a780f3f",
   "metadata": {},
   "source": [
    "If the job was queued for long or we need to check a past one, we can retrieve it if we know its job number, which is displayed in the IBM quantum webpage"
   ]
  },
  {
   "cell_type": "code",
   "execution_count": null,
   "id": "4c776816-57cc-4f31-93f8-fe7d51ecc300",
   "metadata": {},
   "outputs": [],
   "source": [
    "job_number = \"\"\n",
    "job =  Quantum_service.job(job_number)\n",
    "result = job.result()[0].data.evs\n",
    "result"
   ]
  }
 ],
 "metadata": {
  "kernelspec": {
   "display_name": "Python [conda env:base] *",
   "language": "python",
   "name": "conda-base-py"
  },
  "language_info": {
   "codemirror_mode": {
    "name": "ipython",
    "version": 3
   },
   "file_extension": ".py",
   "mimetype": "text/x-python",
   "name": "python",
   "nbconvert_exporter": "python",
   "pygments_lexer": "ipython3",
   "version": "3.12.7"
  },
  "widgets": {
   "application/vnd.jupyter.widget-state+json": {
    "state": {},
    "version_major": 2,
    "version_minor": 0
   }
  }
 },
 "nbformat": 4,
 "nbformat_minor": 5
}
