{
 "cells": [
  {
   "cell_type": "markdown",
   "id": "291d2f06-effe-48f5-8d72-61dc73f37a51",
   "metadata": {},
   "source": [
    "# Random Number Generation on a Quantum Computer\n",
    "Introduction: The purpose of this practice is to generate 500 random numbers between 0 and 7 using quantum measurements on a quantum computer. Before starting, you should have an account of IBM quantum that allows to generated user tokens. The description on how to do it is in the pdf script. When you have it, please proceed. "
   ]
  },
  {
   "cell_type": "code",
   "execution_count": 1,
   "id": "058cd64d-af6f-4c8d-adc2-5fbe2ad0fe56",
   "metadata": {
    "tags": []
   },
   "outputs": [],
   "source": [
    "# PREAMBLE \n",
    "from qiskit import QuantumCircuit, transpile\n",
    "from qiskit.visualization import *\n",
    "from qiskit_ibm_runtime import QiskitRuntimeService, Sampler, Estimator, Session, Options"
   ]
  },
  {
   "cell_type": "markdown",
   "id": "b95f6451-1b20-41de-adc8-30bda2c28294",
   "metadata": {},
   "source": [
    "### Preparation of the circuit\n",
    "The generation of random numbers using a classical simulator of a quantum machine was conducted during the second session. Now, let's generate \"true random numbers\"! To achieve this, we define a 3-qubit circuit that prepares each of them in the superposition $\\tfrac{1}{\\sqrt2}(|0\\rangle+|1\\rangle)$ and measures them in the computational basis ${|0\\rangle,|1\\rangle}$. This setup ensures that the measurement outcomes will be 0 or 1 with equal probabilities of 0.5."
   ]
  },
  {
   "cell_type": "markdown",
   "id": "bcd87e6a-9e31-4de7-b30b-218b4102dba5",
   "metadata": {
    "tags": []
   },
   "source": [
    "#### <font color=teal> **Question 1**:  Define the circuit already known from session 2 with qiskit commands </font>"
   ]
  },
  {
   "cell_type": "code",
   "execution_count": 3,
   "id": "bf8ba572-463f-4de9-83eb-595a93084757",
   "metadata": {
    "tags": []
   },
   "outputs": [],
   "source": [
    "#How many random numbers will be produced in a single shot:\n",
    "Nnumbers=33  #must be smaller than [127 qubits/3]=42\n",
    "# Prepare the input circuit.\n",
    "QRNG = QuantumCircuit(3*Nnumbers) #four qubits\n",
    "for j in range(Nnumbers):\n",
    "  QRNG.h([(3*j+0),(3*j+1),(3*j+2)]) #apply Hadamard gate to each of the qubits\n",
    "\n",
    "QRNG.measure_all() #measure all qubits\n",
    "#QRNG.draw(output=\"mpl\") #plot circuit: don't do it with many qubits"
   ]
  },
  {
   "cell_type": "markdown",
   "id": "3a896071-6c52-4c45-807f-781b186de642",
   "metadata": {},
   "source": [
    "### Run the quantum circuit on a quantum machine"
   ]
  },
  {
   "cell_type": "markdown",
   "id": "731ac302-1e76-49a7-af16-9d1ce0d0f5b8",
   "metadata": {},
   "source": [
    "IBM offers free computation time accesible throught the cloud, each account is able to generate \"user tokens\" that allow to send \"jobs\" to real quantum hardware. Please generate a user token in the webpage \"https://quantum.ibm.com/\" using your credentials."
   ]
  },
  {
   "cell_type": "code",
   "execution_count": 4,
   "id": "1a0698a4-529b-4065-878d-c82e2ffd5484",
   "metadata": {
    "tags": []
   },
   "outputs": [],
   "source": [
    "My_user_token = \"b9968ad2d40bcf52dc390f83272649228d8fbb847bc6d72190e27e1f4bbeabf1c8f422151cc4ea587452529d7cbbb1ac3dfd527b2f917b18c18e073accd7bdb3\" "
   ]
  },
  {
   "cell_type": "markdown",
   "id": "ba092654-f14f-4b80-9c11-1d7799f5ec31",
   "metadata": {},
   "source": [
    "##### Defining the quantum backend"
   ]
  },
  {
   "cell_type": "code",
   "execution_count": 5,
   "id": "f8cb9822-68e3-4d70-8ffa-70217f4183e4",
   "metadata": {
    "tags": []
   },
   "outputs": [
    {
     "data": {
      "text/plain": [
       "{'period': {'start': '2025-04-01T00:00:00.000Z',\n",
       "  'end': '2025-04-30T23:59:59.999Z'},\n",
       " 'byInstance': [{'instance': 'ibm-q/open/main',\n",
       "   'quota': 600,\n",
       "   'usage': 1,\n",
       "   'pendingJobs': 0,\n",
       "   'maxPendingJobs': 3}]}"
      ]
     },
     "execution_count": 5,
     "metadata": {},
     "output_type": "execute_result"
    }
   ],
   "source": [
    "# Quantum machine\n",
    "Quantum_service = QiskitRuntimeService(channel=\"ibm_quantum\",token=My_user_token)\n",
    "Quantum_service.usage()"
   ]
  },
  {
   "cell_type": "markdown",
   "id": "cb1e6271-2162-435f-9c7f-16af078159b8",
   "metadata": {},
   "source": [
    "First we have to choose one of the available machines: we let the system do it with some requirements"
   ]
  },
  {
   "cell_type": "code",
   "execution_count": 6,
   "id": "1164a090-7a9d-46a8-816c-4bd871e6eeac",
   "metadata": {
    "tags": []
   },
   "outputs": [],
   "source": [
    "backend_Q = Quantum_service.least_busy(operational=True, simulator=False, min_num_qubits=3*Nnumbers)"
   ]
  },
  {
   "cell_type": "code",
   "execution_count": 7,
   "id": "46804bcc-63cf-4879-b3a6-630182778612",
   "metadata": {
    "tags": []
   },
   "outputs": [
    {
     "data": {
      "text/html": [
       "<pre>&lt;qiskit_ibm_runtime.models.backend_status.BackendStatus object at 0x7fa1a32fb7d0&gt;</pre><b>name</b>: ibm_kyiv<br/><b>version</b>: , <b>pending jobs</b>: 4<br/><b>status</b>: active<br/>"
      ],
      "text/plain": [
       "<qiskit_ibm_runtime.models.backend_status.BackendStatus at 0x7fa1a32fb7d0>"
      ]
     },
     "execution_count": 7,
     "metadata": {},
     "output_type": "execute_result"
    }
   ],
   "source": [
    "backend_Q.status()"
   ]
  },
  {
   "cell_type": "code",
   "execution_count": 8,
   "id": "064c1092-a5e8-4e85-a686-c42411907d32",
   "metadata": {
    "tags": []
   },
   "outputs": [],
   "source": [
    "# Create the options object with attributes and values\n",
    "options = {\"max_execution_time\": 30} #maximum number of seconds that we allow this to run\n",
    "# Number of shots (repetitions of the job)\n",
    "shots_Q=1\n",
    "sampler = Sampler(mode=backend_Q,options=options) #to specify that we are going to make a sampling of the measurement\n"
   ]
  },
  {
   "cell_type": "markdown",
   "id": "7af5f79d-4530-4e31-8fd9-4ff2463dd5fb",
   "metadata": {
    "tags": []
   },
   "source": [
    "##### Sending jobs to the machine <br>\n",
    "<font color=\"red\"> Executing the following cell will cause a charge on your free monthly time allotment, currently 10 min. courtesy of IBM</font>"
   ]
  },
  {
   "cell_type": "code",
   "execution_count": 9,
   "id": "82e3f077-e454-455c-9e13-c4984f2cbb7c",
   "metadata": {
    "tags": []
   },
   "outputs": [],
   "source": [
    "# Execute the circuit\n",
    "job = sampler.run([transpile(QRNG,backend_Q)],shots=shots_Q)\n"
   ]
  },
  {
   "cell_type": "markdown",
   "id": "261675b0-151a-468c-84fc-a68240f06263",
   "metadata": {
    "tags": []
   },
   "source": [
    "##### Checking job state"
   ]
  },
  {
   "cell_type": "code",
   "execution_count": 12,
   "id": "0f33e4af-0dc7-4daf-a533-4e4c42c0e8a8",
   "metadata": {
    "tags": []
   },
   "outputs": [
    {
     "data": {
      "text/plain": [
       "'DONE'"
      ]
     },
     "execution_count": 12,
     "metadata": {},
     "output_type": "execute_result"
    }
   ],
   "source": [
    "# The following cell gives information about the job\n",
    "job.status() # Status"
   ]
  },
  {
   "cell_type": "code",
   "execution_count": 11,
   "id": "7f0c564b-2ea7-4d8c-bbb6-dfe84ca19c67",
   "metadata": {
    "tags": []
   },
   "outputs": [
    {
     "data": {
      "text/plain": [
       "'czv3xanrxz8g008ekt5g'"
      ]
     },
     "execution_count": 11,
     "metadata": {},
     "output_type": "execute_result"
    }
   ],
   "source": [
    "job.job_id() # Identification code"
   ]
  },
  {
   "cell_type": "markdown",
   "id": "53bc31d3-2be9-4f54-8d91-797b15d97e97",
   "metadata": {},
   "source": [
    "The next statement can put your session on hold until the job runs and returns, do no click until the job actually executed, which you can check in https://quantum.ibm.com/jobs or re-executing the cell with the command \"job.status()\""
   ]
  },
  {
   "cell_type": "code",
   "execution_count": 13,
   "id": "55596c8f-b1e7-4ccf-aae1-3490648ac917",
   "metadata": {
    "tags": []
   },
   "outputs": [
    {
     "data": {
      "text/plain": [
       "dict_keys(['011000111010011001010110000010101111101010100001111111111011010110110101000111110000111111101100000'])"
      ]
     },
     "execution_count": 13,
     "metadata": {},
     "output_type": "execute_result"
    }
   ],
   "source": [
    "result = job.result()[0].data.meas.get_counts()\n",
    "result.keys()"
   ]
  },
  {
   "cell_type": "markdown",
   "id": "236e9ede-b041-4f14-b2cf-b3b11668543d",
   "metadata": {},
   "source": [
    "### Once the calculation is finished, we print the relative frequency and the histogram of each of the numbers (the output is in decimal form)"
   ]
  },
  {
   "cell_type": "markdown",
   "id": "205c067c-12de-4ad7-8857-c56e9ceb7d4f",
   "metadata": {},
   "source": [
    "We need to extract the numbers from 0 to 7 from that random number, for which we use the remainders of the subsequent divisions by 8 in a loop."
   ]
  },
  {
   "cell_type": "code",
   "execution_count": 14,
   "id": "5791c989-9c8c-4fb1-b21b-186d701db1d4",
   "metadata": {},
   "outputs": [],
   "source": [
    "Auxnumberlist = list(result.keys())\n",
    "Auxnumber=int(Auxnumberlist[0])  #now we have isolated the number\n",
    "aux = Auxnumber\n",
    "Listofrandomnumbers = []  #empty list which will contain the random numbers"
   ]
  },
  {
   "cell_type": "code",
   "execution_count": 15,
   "id": "8dc62e7e-401e-457d-9c5c-95627a62af26",
   "metadata": {
    "tags": []
   },
   "outputs": [
    {
     "name": "stdout",
     "output_type": "stream",
     "text": [
      "[0, 4, 7, 7, 2, 4, 3, 0, 6, 1, 2, 3, 2, 4, 6, 2, 2, 7, 5, 0, 1, 0, 4, 0, 5, 7, 2, 3, 6, 3, 0, 5, 7, 5, 5, 6, 6, 3, 4, 2, 3, 1, 5, 6, 1, 0, 2, 5, 3, 6, 7, 6, 7, 4, 4, 3, 0, 5, 5, 0, 3, 2, 4, 5, 7, 2, 4, 7, 0, 2, 3, 1, 6, 3, 5, 6, 0, 4, 6, 2, 5, 1, 1, 1, 2, 6, 6, 4, 2, 3, 6, 5, 4, 2, 0, 2, 4, 5, 3, 2, 1, 7, 7, 2, 6, 4, 4, 2]\n"
     ]
    }
   ],
   "source": [
    "while aux>8:  #when the condition fails, aux will be the last of the random numbers\n",
    "    quotientremainder = divmod(aux,8) #while the condition is true, the remainder is the next random number\n",
    "    # Alternative not using the built-in divmod function\n",
    "    # newnumber = aux % 8 #remainder of dividing by 8 so we extract three bits from aux\n",
    "    # aux = aux//8  #division without remainder\n",
    "    newnumber = quotientremainder[1]\n",
    "    aux = quotientremainder[0]\n",
    "    Listofrandomnumbers.append(newnumber) # we put them in a list\n",
    "Listofrandomnumbers.append(aux) #append the last one and finish\n",
    "print(Listofrandomnumbers)\n"
   ]
  },
  {
   "cell_type": "code",
   "execution_count": 16,
   "id": "f7c68db7-b912-4abf-83ab-e35ff4d33998",
   "metadata": {
    "tags": []
   },
   "outputs": [
    {
     "data": {
      "image/png": "[encoded data removed]",
      "text/plain": [
       "<Figure size 640x480 with 1 Axes>"
      ]
     },
     "metadata": {},
     "output_type": "display_data"
    }
   ],
   "source": [
    "from matplotlib import pyplot as plt\n",
    "plt.hist(Listofrandomnumbers, 15)\n",
    "plt.show()"
   ]
  },
  {
   "cell_type": "markdown",
   "id": "ffd7bdb7-d47b-49cb-9140-3c575c9bf723",
   "metadata": {},
   "source": [
    "#### <font color=teal> **Question 2**:  Comment on your results </font>"
   ]
  },
  {
   "cell_type": "markdown",
   "id": "91a2796f-13ca-4b0b-b90f-d0818bf7b962",
   "metadata": {},
   "source": [
    "### Congratulations! You have completed your first quantum experiment!"
   ]
  }
 ],
 "metadata": {
  "kernelspec": {
   "display_name": "Python 3 (ipykernel)",
   "language": "python",
   "name": "python3"
  },
  "language_info": {
   "codemirror_mode": {
    "name": "ipython",
    "version": 3
   },
   "file_extension": ".py",
   "mimetype": "text/x-python",
   "name": "python",
   "nbconvert_exporter": "python",
   "pygments_lexer": "ipython3",
   "version": "3.12.9"
  },
  "widgets": {
   "application/vnd.jupyter.widget-state+json": {
    "state": {},
    "version_major": 2,
    "version_minor": 0
   }
  }
 },
 "nbformat": 4,
 "nbformat_minor": 5
}
